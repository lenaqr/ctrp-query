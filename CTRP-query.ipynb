{
 "cells": [
  {
   "cell_type": "markdown",
   "metadata": {},
   "source": [
    "# Click \"Cell > Run All\" above to get started"
   ]
  },
  {
   "cell_type": "markdown",
   "metadata": {},
   "source": [
    "## Load the dataset"
   ]
  },
  {
   "cell_type": "code",
   "execution_count": null,
   "metadata": {},
   "outputs": [],
   "source": [
    "import pandas as pd\n",
    "import qgrid\n",
    "qgrid.set_grid_option('maxVisibleRows', 10)"
   ]
  },
  {
   "cell_type": "code",
   "execution_count": null,
   "metadata": {},
   "outputs": [],
   "source": [
    "src = \"https://www.ncbi.nlm.nih.gov/pmc/articles/PMC4631646/bin/NIHMS711523-supplement-4.xlsx\"\n",
    "data = pd.read_excel(src, sheet_name=None)"
   ]
  },
  {
   "cell_type": "code",
   "execution_count": null,
   "metadata": {},
   "outputs": [],
   "source": [
    "data['Index']"
   ]
  },
  {
   "cell_type": "markdown",
   "metadata": {},
   "source": [
    "## Search for CCLs with mutation annotations"
   ]
  },
  {
   "cell_type": "code",
   "execution_count": null,
   "metadata": {},
   "outputs": [],
   "source": [
    "q6 = qgrid.show_grid(data['S6'])\n",
    "\n",
    "s2 = data['S2']\n",
    "s2 = s2[['index_ccl', 'cell_line_name', 'ccle_primary_site', 'ccle_primary_histology', 'ccle_histology_subtype']]\n",
    "s2 = s2.fillna(\"\").set_index('index_ccl')\n",
    "q2 = qgrid.show_grid(s2.loc[[]])\n",
    "\n",
    "def handler(event, q):\n",
    "    df = q6.get_selected_df()\n",
    "    index_ccl = sorted(set(int(ccl) for ccls in df['index_ccl'] for ccl in ccls.split(';')))\n",
    "    q2.df = s2.loc[index_ccl]\n",
    "\n",
    "q6.on(['selection_changed'], handler)"
   ]
  },
  {
   "cell_type": "markdown",
   "metadata": {},
   "source": [
    "The table below displays information about CCL mutation annotations. Use the grid interface to filter and select mutations of interest."
   ]
  },
  {
   "cell_type": "code",
   "execution_count": null,
   "metadata": {
    "scrolled": false
   },
   "outputs": [],
   "source": [
    "q6"
   ]
  },
  {
   "cell_type": "markdown",
   "metadata": {},
   "source": [
    "Click on a row above to select it. The table below will update to display information about the CCLs with the selected mutations."
   ]
  },
  {
   "cell_type": "code",
   "execution_count": null,
   "metadata": {},
   "outputs": [],
   "source": [
    "q2"
   ]
  }
 ],
 "metadata": {
  "kernelspec": {
   "display_name": "Python 3",
   "language": "python",
   "name": "python3"
  },
  "language_info": {
   "codemirror_mode": {
    "name": "ipython",
    "version": 3
   },
   "file_extension": ".py",
   "mimetype": "text/x-python",
   "name": "python",
   "nbconvert_exporter": "python",
   "pygments_lexer": "ipython3",
   "version": "3.7.3"
  }
 },
 "nbformat": 4,
 "nbformat_minor": 2
}
