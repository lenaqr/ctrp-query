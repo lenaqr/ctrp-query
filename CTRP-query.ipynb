{
 "cells": [
  {
   "cell_type": "markdown",
   "metadata": {},
   "source": [
    "## Load the dataset"
   ]
  },
  {
   "cell_type": "code",
   "execution_count": null,
   "metadata": {},
   "outputs": [],
   "source": [
    "import pandas as pd\n",
    "import qgrid\n",
    "qgrid.set_grid_option('maxVisibleRows', 10)"
   ]
  },
  {
   "cell_type": "code",
   "execution_count": null,
   "metadata": {},
   "outputs": [],
   "source": [
    "src = \"https://www.ncbi.nlm.nih.gov/pmc/articles/PMC4631646/bin/NIHMS711523-supplement-4.xlsx\"\n",
    "data = pd.read_excel(src, sheet_name=None)"
   ]
  },
  {
   "cell_type": "code",
   "execution_count": null,
   "metadata": {},
   "outputs": [],
   "source": [
    "data['Index']"
   ]
  },
  {
   "cell_type": "markdown",
   "metadata": {},
   "source": [
    "## Search for CCLs with mutation annotations\n",
    "\n",
    "Run the cell below, then use the grid interface to sort and filter the table of cell-line mutation annotations."
   ]
  },
  {
   "cell_type": "code",
   "execution_count": null,
   "metadata": {
    "scrolled": false
   },
   "outputs": [],
   "source": [
    "q6 = qgrid.show_grid(data['S6'])\n",
    "q6"
   ]
  },
  {
   "cell_type": "markdown",
   "metadata": {},
   "source": [
    "After filtering to the mutation(s) of interest, run the next cell to display information about the CCLs with those annotations. You may re-run the below cell after changing the above table to run multiple searches."
   ]
  },
  {
   "cell_type": "code",
   "execution_count": null,
   "metadata": {},
   "outputs": [],
   "source": [
    "df = q6.get_changed_df()\n",
    "index_ccl = sorted({int(ix) for row in df['index_ccl'] for ix in row.split(';')})\n",
    "df = data['S2'].set_index('index_ccl').loc[index_ccl]\n",
    "df = df[['cell_line_name', 'ccle_primary_site', 'ccle_primary_histology', 'ccle_histology_subtype']]\n",
    "q2 = qgrid.show_grid(df.fillna(\"\"))\n",
    "q2"
   ]
  }
 ],
 "metadata": {
  "kernelspec": {
   "display_name": "Python 3",
   "language": "python",
   "name": "python3"
  },
  "language_info": {
   "codemirror_mode": {
    "name": "ipython",
    "version": 3
   },
   "file_extension": ".py",
   "mimetype": "text/x-python",
   "name": "python",
   "nbconvert_exporter": "python",
   "pygments_lexer": "ipython3",
   "version": "3.7.3"
  }
 },
 "nbformat": 4,
 "nbformat_minor": 2
}
